{
  "nbformat": 4,
  "nbformat_minor": 0,
  "metadata": {
    "colab": {
      "provenance": [],
      "authorship_tag": "ABX9TyNy8kd2jI2WOBTNefTQhHsI",
      "include_colab_link": true
    },
    "kernelspec": {
      "name": "python3",
      "display_name": "Python 3"
    },
    "language_info": {
      "name": "python"
    }
  },
  "cells": [
    {
      "cell_type": "markdown",
      "metadata": {
        "id": "view-in-github",
        "colab_type": "text"
      },
      "source": [
        "<a href=\"https://colab.research.google.com/github/ritik-hue/coursera_deeplearning/blob/main/Keras_hyperparametertuning.ipynb\" target=\"_parent\"><img src=\"https://colab.research.google.com/assets/colab-badge.svg\" alt=\"Open In Colab\"/></a>"
      ]
    },
    {
      "cell_type": "code",
      "execution_count": 1,
      "metadata": {
        "id": "BRjvr_0LF2mG"
      },
      "outputs": [],
      "source": [
        "import numpy as np\n",
        "import pandas as pd\n",
        "import matplotlib.pyplot as plt"
      ]
    },
    {
      "cell_type": "code",
      "source": [
        "##import kerasclassifier and gridsearchcv\n",
        "def create_model(layers,activation):\n",
        "  model=Sequential()\n",
        "  for i,nodes in enumerate(layers):\n",
        "    if i==0:\n",
        "      model.add(Dense(nodes,input_dim=X_train.shape[1]))\n",
        "      model.add(Activation(activation))\n",
        "    else:\n",
        "      model.add(Dense(nodes))\n",
        "      model.add(Activation(activation))\n",
        "   model.add(Dense(1))\n",
        "   model.compile(optimizer='adam',loss='binary_crossentropy',metrics=['accuracy'])\n",
        "   return model\n",
        "model=KerasClassifier(build_fn=create_model,verbose=0)\n"
      ],
      "metadata": {
        "id": "F91_wMB1F8y0"
      },
      "execution_count": null,
      "outputs": []
    },
    {
      "cell_type": "code",
      "source": [
        "layers=[[20],[21,12,45],[34,32,56,71]]\n",
        "activations=['sigmoid','relu']\n",
        "param_grid=dict(layers=layers,activation=activations,batch_size=[128,256],epochs=20)\n",
        "grid=GridSearchCV(estimator=model,param_grid=param_grid)"
      ],
      "metadata": {
        "id": "70V7aVYfI2d-"
      },
      "execution_count": null,
      "outputs": []
    },
    {
      "cell_type": "code",
      "source": [
        "grid_result=grid.fit(x_train,y_train)\n",
        "[grid_result.best_score_,grid_result.best_params_]"
      ],
      "metadata": {
        "id": "2eXI58NQJoMi"
      },
      "execution_count": null,
      "outputs": []
    }
  ]
}